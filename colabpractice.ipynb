{
  "nbformat": 4,
  "nbformat_minor": 0,
  "metadata": {
    "colab": {
      "name": "colabpractice.ipynb",
      "provenance": [],
      "authorship_tag": "ABX9TyNoxRtLmMmpGVM35JXPkuLn",
      "include_colab_link": true
    },
    "kernelspec": {
      "name": "python3",
      "display_name": "Python 3"
    },
    "language_info": {
      "name": "python"
    }
  },
  "cells": [
    {
      "cell_type": "markdown",
      "metadata": {
        "id": "view-in-github",
        "colab_type": "text"
      },
      "source": [
        "<a href=\"https://colab.research.google.com/github/JayFlax/colab/blob/main/colabpractice.ipynb\" target=\"_parent\"><img src=\"https://colab.research.google.com/assets/colab-badge.svg\" alt=\"Open In Colab\"/></a>"
      ]
    },
    {
      "cell_type": "code",
      "execution_count": 8,
      "metadata": {
        "colab": {
          "base_uri": "https://localhost:8080/"
        },
        "id": "G-a8vk9ZG9CI",
        "outputId": "fae74648-1361-4021-8aa8-cd3a32c0a4f4"
      },
      "outputs": [
        {
          "output_type": "stream",
          "name": "stdout",
          "text": [
            "ewJd(5s0Tagtzq6?BQ2r\n"
          ]
        }
      ],
      "source": [
        "import random\n",
        "p = \"abcdefghijklmnopqrstuvwxyz01234567890ABCDEFGHIJKLMNOPQRSTUVWXYZ!@#$%^&*()?\"\n",
        "passlen = 13\n",
        "\n",
        "p = \"\".join(random.sample(p,passlen))\n",
        "print(p)"
      ]
    },
    {
      "cell_type": "code",
      "source": [
        "\n",
        "\n",
        "def yesornoresponse():\n",
        "  yesornoresponse = input(\"Happy New Year! Do you make resolutions?\")\n",
        "  if yesornoresponse == \"No\":\n",
        "    print(\"No worries!\")\n",
        "  else:\n",
        "    print(\"Absolutely \" + yesornoresponse + \"!\")\n",
        "\n",
        "def travelques():\n",
        "  travelq = input(\"Do you plan on traveling this year? \")\n",
        "  if travelq == \"No\":\n",
        "    print(\"Probably \" + (travelq) + \".\")\n",
        "    print(\"Well, maybe next year!\")\n",
        "  else:\n",
        "    print(\"It depends, but \" + (travelq) + \"!\")\n",
        "    country = input(\"Where do you plan on traveling to? \")\n",
        "    print(\"Most likely \" + (country) + \"!\")\n",
        "\n",
        "yesornoresponse()\n",
        "travelques()\n"
      ],
      "metadata": {
        "colab": {
          "base_uri": "https://localhost:8080/"
        },
        "id": "Dqv8zh2pLutw",
        "outputId": "aa7276fa-f11a-4805-9b5f-5e066c31b9ca"
      },
      "execution_count": 22,
      "outputs": [
        {
          "output_type": "stream",
          "name": "stdout",
          "text": [
            "Happy New Year! Do you make resolutions?Yes\n",
            "Absolutely Yes!\n",
            "Do you plan on traveling this year? Yes\n",
            "It depends, but Yes!\n",
            "Where do you plan on traveling to? Monocco\n",
            "Most likely Monocco!\n"
          ]
        }
      ]
    }
  ]
}