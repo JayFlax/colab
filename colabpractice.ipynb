{
  "nbformat": 4,
  "nbformat_minor": 0,
  "metadata": {
    "colab": {
      "name": "colabpractice.ipynb",
      "provenance": [],
      "authorship_tag": "ABX9TyNyvWub9iswREsKivGbVJt4",
      "include_colab_link": true
    },
    "kernelspec": {
      "name": "python3",
      "display_name": "Python 3"
    },
    "language_info": {
      "name": "python"
    }
  },
  "cells": [
    {
      "cell_type": "markdown",
      "metadata": {
        "id": "view-in-github",
        "colab_type": "text"
      },
      "source": [
        "<a href=\"https://colab.research.google.com/github/JayFlax/colab/blob/main/colabpractice.ipynb\" target=\"_parent\"><img src=\"https://colab.research.google.com/assets/colab-badge.svg\" alt=\"Open In Colab\"/></a>"
      ]
    },
    {
      "cell_type": "code",
      "execution_count": 8,
      "metadata": {
        "colab": {
          "base_uri": "https://localhost:8080/"
        },
        "id": "G-a8vk9ZG9CI",
        "outputId": "fae74648-1361-4021-8aa8-cd3a32c0a4f4"
      },
      "outputs": [
        {
          "output_type": "stream",
          "name": "stdout",
          "text": [
            "ewJd(5s0Tagtzq6?BQ2r\n"
          ]
        }
      ],
      "source": [
        "import random\n",
        "p = \"abcdefghijklmnopqrstuvwxyz01234567890ABCDEFGHIJKLMNOPQRSTUVWXYZ!@#$%^&*()?\"\n",
        "passlen = 13\n",
        "\n",
        "p = \"\".join(random.sample(p,passlen))\n",
        "print(p)"
      ]
    },
    {
      "cell_type": "code",
      "source": [
        "yesornoresponse = input(\"Happy New Year! Do you make resolutions?\")\n",
        "print(\"Absolutely \" + yesornoresponse + \"!\")\n",
        "\n",
        "def travelques():\n",
        "  travelq = input(\"Do you plan on traveling this year? \")\n",
        "  if travelq == str(\"no\"):\n",
        "    print(\"Probably \" + (travelq) + \".\")\n",
        "    print(\"Well maybe next year!\")\n",
        "  else:\n",
        "    print(\"It depends, but \" + (travelq) + \"!\")\n",
        "    country = input(\"Where do you plan on traveling to? \")\n",
        "    print(\"Most likely \" + (country) + \"!\")\n",
        "\n",
        "travelques()\n"
      ],
      "metadata": {
        "colab": {
          "base_uri": "https://localhost:8080/"
        },
        "id": "Dqv8zh2pLutw",
        "outputId": "9b44c429-3ffe-4f27-ba48-c79b879ac346"
      },
      "execution_count": 20,
      "outputs": [
        {
          "output_type": "stream",
          "name": "stdout",
          "text": [
            "Happy New Year! Do you make resolutions?Yes\n",
            "Absolutely Yes!\n",
            "Do you plan on traveling this year? no\n",
            "Probably no.\n",
            "Well maybe next year!\n"
          ]
        }
      ]
    }
  ]
}